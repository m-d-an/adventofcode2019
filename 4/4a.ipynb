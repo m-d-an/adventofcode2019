{
 "cells": [
  {
   "cell_type": "code",
   "execution_count": 1,
   "metadata": {},
   "outputs": [],
   "source": [
    "a = 307237\n",
    "b = 769058"
   ]
  },
  {
   "cell_type": "code",
   "execution_count": 2,
   "metadata": {},
   "outputs": [],
   "source": [
    "# test data\n",
    "#a = 333445\n",
    "#b = 333666"
   ]
  },
  {
   "cell_type": "code",
   "execution_count": 3,
   "metadata": {},
   "outputs": [],
   "source": [
    "numberOfValidPasswords = 0\n",
    "for i in range(a,b+1):\n",
    "    digits = list(map(int, str(i)))\n",
    "    \n",
    "    sameNumber = False # first requirement: same number next to each other, but not part of a bigger group\n",
    "    decreasing = False # second requirement: no decrease from digit to digit\n",
    "    \n",
    "    for j in range(0,len(digits)-1):\n",
    "        #print(j)\n",
    "        if (digits[j] == digits[j+1]):\n",
    "            if ((j == 0 and digits[j+1] != digits[j+2]) or\n",
    "                (j+1 == len(digits)-1 and digits[j-1] != digits[j]) or\n",
    "                (digits[j-1] != digits[j] and digits[j+1] != digits[j+2])):           \n",
    "                    sameNumber = True\n",
    "        if (digits[j] > digits[j+1]):\n",
    "            decreasing = True\n",
    "            break\n",
    "    if (sameNumber and not decreasing):\n",
    "        numberOfValidPasswords += 1 \n",
    "        #print(digits)"
   ]
  },
  {
   "cell_type": "code",
   "execution_count": 4,
   "metadata": {},
   "outputs": [
    {
     "name": "stdout",
     "output_type": "stream",
     "text": [
      "589\n"
     ]
    }
   ],
   "source": [
    "print(numberOfValidPasswords)"
   ]
  }
 ],
 "metadata": {
  "kernelspec": {
   "display_name": "Python 3",
   "language": "python",
   "name": "python3"
  },
  "language_info": {
   "codemirror_mode": {
    "name": "ipython",
    "version": 3
   },
   "file_extension": ".py",
   "mimetype": "text/x-python",
   "name": "python",
   "nbconvert_exporter": "python",
   "pygments_lexer": "ipython3",
   "version": "3.7.3"
  }
 },
 "nbformat": 4,
 "nbformat_minor": 2
}

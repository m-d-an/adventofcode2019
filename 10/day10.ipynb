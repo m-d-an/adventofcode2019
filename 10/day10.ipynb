{
 "cells": [
  {
   "cell_type": "code",
   "execution_count": 35,
   "metadata": {},
   "outputs": [],
   "source": [
    "import math"
   ]
  },
  {
   "cell_type": "code",
   "execution_count": 36,
   "metadata": {},
   "outputs": [],
   "source": [
    "astroidMap = []\n",
    "with open('input_2.txt') as fp:\n",
    "    for line in fp:\n",
    "        astroidMap.append([char for char in line][:-1])"
   ]
  },
  {
   "cell_type": "code",
   "execution_count": 37,
   "metadata": {},
   "outputs": [
    {
     "name": "stdout",
     "output_type": "stream",
     "text": [
      "[['.', '.', '.', '.', '.', '.', '#', '.', '#', '.'], ['#', '.', '.', '#', '.', '#', '.', '.', '.', '.'], ['.', '.', '#', '#', '#', '#', '#', '#', '#', '.'], ['.', '#', '.', '#', '.', '#', '#', '#', '.', '.'], ['.', '#', '.', '.', '#', '.', '.', '.', '.', '.'], ['.', '.', '#', '.', '.', '.', '.', '#', '.', '#'], ['#', '.', '.', '#', '.', '.', '.', '.', '#', '.'], ['.', '#', '#', '.', '#', '.', '.', '#', '#', '#'], ['#', '#', '.', '.', '.', '#', '.', '.', '#', '.'], ['.', '#', '.', '.', '.', '.', '#', '#', '#']]\n"
     ]
    }
   ],
   "source": [
    "print(astroidMap)"
   ]
  },
  {
   "cell_type": "code",
   "execution_count": 61,
   "metadata": {},
   "outputs": [],
   "source": [
    "def checkIfAstroidsAreInSight(ast1X, ast1Y, ast2X, ast2Y):\n",
    "    diffX = ast1X - ast2X\n",
    "    diffY = ast1Y - ast2Y\n",
    "    gcd = math.gcd(diffX,diffY)\n",
    "    print(gcd)\n",
    "    \n",
    "    incX = int(diffX / gcd)\n",
    "    incY = int(diffY / gcd)\n",
    "    \n",
    "    print(incX)\n",
    "    print(incY)\n",
    "    \n",
    "    isVisible = True\n",
    "    for i in range(1,gcd):\n",
    "        checkX = ast1X - i*incX\n",
    "        checkY = ast1Y - i*incY\n",
    "        print(\"X: \"+str(checkX))\n",
    "        print(\"Y: \"+str(checkY))\n",
    "        if(astroidMap[checkY][checkX]=='#'):\n",
    "            return False\n",
    "    return True\n",
    "    "
   ]
  },
  {
   "cell_type": "code",
   "execution_count": 62,
   "metadata": {},
   "outputs": [
    {
     "name": "stdout",
     "output_type": "stream",
     "text": [
      "4\n",
      "-1\n",
      "-1\n",
      "X: 6\n",
      "Y: 4\n",
      "X: 7\n",
      "Y: 5\n"
     ]
    },
    {
     "data": {
      "text/plain": [
       "False"
      ]
     },
     "execution_count": 62,
     "metadata": {},
     "output_type": "execute_result"
    }
   ],
   "source": [
    "checkIfAstroidsAreInSight(5,3,9,7)"
   ]
  },
  {
   "cell_type": "code",
   "execution_count": 60,
   "metadata": {},
   "outputs": [
    {
     "name": "stdout",
     "output_type": "stream",
     "text": [
      ".\n"
     ]
    }
   ],
   "source": [
    "print(astroidMap[7][5])"
   ]
  },
  {
   "cell_type": "code",
   "execution_count": null,
   "metadata": {},
   "outputs": [],
   "source": []
  }
 ],
 "metadata": {
  "kernelspec": {
   "display_name": "Python 3",
   "language": "python",
   "name": "python3"
  },
  "language_info": {
   "codemirror_mode": {
    "name": "ipython",
    "version": 3
   },
   "file_extension": ".py",
   "mimetype": "text/x-python",
   "name": "python",
   "nbconvert_exporter": "python",
   "pygments_lexer": "ipython3",
   "version": "3.7.3"
  }
 },
 "nbformat": 4,
 "nbformat_minor": 2
}

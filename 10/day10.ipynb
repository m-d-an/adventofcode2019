{
 "cells": [
  {
   "cell_type": "code",
   "execution_count": 1,
   "metadata": {},
   "outputs": [],
   "source": [
    "import math"
   ]
  },
  {
   "cell_type": "code",
   "execution_count": 2,
   "metadata": {},
   "outputs": [],
   "source": [
    "astroidMap = []\n",
    "with open('input.txt') as fp:\n",
    "    for line in fp:\n",
    "        astroidMap.append([char for char in line][:-1])"
   ]
  },
  {
   "cell_type": "code",
   "execution_count": 3,
   "metadata": {},
   "outputs": [
    {
     "name": "stdout",
     "output_type": "stream",
     "text": [
      ".#..#..##.#...###.#............#.\n",
      ".....#..........##..#..#####.#..#\n",
      "#....#...#..#.......#...........#\n",
      ".#....#....#....#.#...#.#.#.#....\n",
      "..#..#.....#.......###.#.#.##....\n",
      "...#.##.###..#....#........#..#.#\n",
      "..#.##..#.#.#...##..........#...#\n",
      "..#..#.......................#..#\n",
      "...#..#.#...##.#...#.#..#.#......\n",
      "......#......#.....#.............\n",
      ".###..#.#..#...#..#.#.......##..#\n",
      ".#...#.................###......#\n",
      "#.#.......#..####.#..##.###.....#\n",
      ".#.#..#.#...##.#.#..#..##.#.#.#..\n",
      "##...#....#...#....##....#.#....#\n",
      "......#..#......#.#.....##..#.#..\n",
      "##.###.....#.#.###.#..#..#..###..\n",
      "#...........#.#..#..#..#....#....\n",
      "..........#.#.#..#.###...#.....#.\n",
      "...#.###........##..#..##........\n",
      ".###.....#.#.###...##.........#..\n",
      "#.#...##.....#.#.........#..#.###\n",
      "..##..##........#........#......#\n",
      "..####......#...#..........#.#...\n",
      "......##...##.#........#...##.##.\n",
      ".#..###...#.......#........#....#\n",
      "...##...#..#...#..#..#.#.#...#...\n",
      "....#......#.#............##.....\n",
      "#......####...#.....#...#......#.\n",
      "...#............#...#..#.#.#..#.#\n",
      ".#...#....###.####....#.#........\n",
      "#.#...##...#.##...#....#.#..##.#.\n",
      ".#....#.###..#..##.#.##...#.#..##\n"
     ]
    }
   ],
   "source": [
    "for row in astroidMap:\n",
    "    line = \"\"\n",
    "    for col in row:\n",
    "        line += str(col)\n",
    "    print(line)"
   ]
  },
  {
   "cell_type": "code",
   "execution_count": 4,
   "metadata": {},
   "outputs": [],
   "source": [
    "def checkIfAstroidsAreInSight(ast1X, ast1Y, ast2X, ast2Y):\n",
    "    if (ast1X==ast2X and ast1Y==ast2Y):\n",
    "        return False\n",
    "    diffX = ast1X - ast2X\n",
    "    diffY = ast1Y - ast2Y\n",
    "    gcd = math.gcd(diffX,diffY)\n",
    "    #print(gcd)\n",
    "    \n",
    "    incX = int(diffX / gcd)\n",
    "    incY = int(diffY / gcd)\n",
    "    \n",
    "    #print(incX)\n",
    "    #print(incY)\n",
    "    \n",
    "    isVisible = True\n",
    "    for i in range(1,gcd):\n",
    "        checkX = ast1X - i*incX\n",
    "        checkY = ast1Y - i*incY\n",
    "        #print(\"X: \"+str(checkX))\n",
    "        #print(\"Y: \"+str(checkY))\n",
    "        if(astroidMap[checkY][checkX]=='#'):\n",
    "            return False\n",
    "    return True\n",
    "    "
   ]
  },
  {
   "cell_type": "code",
   "execution_count": 5,
   "metadata": {},
   "outputs": [],
   "source": [
    "numberOfVisibleAstroids = {} \n",
    "for iy in range(len(astroidMap)):\n",
    "    for ix in range(len(astroidMap[iy])):\n",
    "        if (astroidMap[iy][ix]=='#'):\n",
    "            numberOfVisibleAstroids[(ix,iy)] = 0\n",
    "            for jy in range(len(astroidMap)):\n",
    "                for jx in range(len(astroidMap[jy])):\n",
    "                    if (astroidMap[jy][jx]=='#'):\n",
    "                        if (checkIfAstroidsAreInSight(ix,iy,jx,jy)):\n",
    "                            numberOfVisibleAstroids[(ix,iy)] += 1"
   ]
  },
  {
   "cell_type": "code",
   "execution_count": 6,
   "metadata": {},
   "outputs": [
    {
     "name": "stdout",
     "output_type": "stream",
     "text": [
      "263\n"
     ]
    }
   ],
   "source": [
    "print(max(numberOfVisibleAstroids.values()))"
   ]
  }
 ],
 "metadata": {
  "kernelspec": {
   "display_name": "Python 3",
   "language": "python",
   "name": "python3"
  },
  "language_info": {
   "codemirror_mode": {
    "name": "ipython",
    "version": 3
   },
   "file_extension": ".py",
   "mimetype": "text/x-python",
   "name": "python",
   "nbconvert_exporter": "python",
   "pygments_lexer": "ipython3",
   "version": "3.7.3"
  }
 },
 "nbformat": 4,
 "nbformat_minor": 2
}

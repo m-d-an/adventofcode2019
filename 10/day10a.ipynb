{
 "cells": [
  {
   "cell_type": "code",
   "execution_count": 1,
   "metadata": {},
   "outputs": [],
   "source": [
    "import math"
   ]
  },
  {
   "cell_type": "code",
   "execution_count": 2,
   "metadata": {},
   "outputs": [],
   "source": [
    "astroidMap = []\n",
    "with open('input_3.txt') as fp:\n",
    "    for line in fp:\n",
    "        astroidMap.append([char for char in line][:-1])"
   ]
  },
  {
   "cell_type": "code",
   "execution_count": 3,
   "metadata": {},
   "outputs": [
    {
     "name": "stdout",
     "output_type": "stream",
     "text": [
      ".#..##.###...#######\n",
      "##.############..##.\n",
      ".#.######.########.#\n",
      ".###.#######.####.#.\n",
      "#####.##.#.##.###.##\n",
      "..#####..#.#########\n",
      "####################\n",
      "#.####....###.#.#.##\n",
      "##.#################\n",
      "#####.##.###..####..\n",
      "..######..##.#######\n",
      "####.##.####...##..#\n",
      ".#####..#.######.###\n",
      "##...#.##########...\n",
      "#.##########.#######\n",
      ".####.#.###.###.#.##\n",
      "....##.##.###..#####\n",
      ".#.#.###########.###\n",
      "#.#.#.#####.####.###\n",
      "###.##.####.##.#..##\n"
     ]
    }
   ],
   "source": [
    "for row in astroidMap:\n",
    "    line = \"\"\n",
    "    for col in row:\n",
    "        line += str(col)\n",
    "    print(line)"
   ]
  },
  {
   "cell_type": "code",
   "execution_count": 4,
   "metadata": {},
   "outputs": [],
   "source": [
    "def checkIfAstroidsAreInSight(ast1X, ast1Y, ast2X, ast2Y):\n",
    "    if (ast1X==ast2X and ast1Y==ast2Y):\n",
    "        return False\n",
    "    diffX = ast1X - ast2X\n",
    "    diffY = ast1Y - ast2Y\n",
    "    gcd = math.gcd(diffX,diffY)\n",
    "    #print(gcd)\n",
    "    \n",
    "    incX = int(diffX / gcd)\n",
    "    incY = int(diffY / gcd)\n",
    "    \n",
    "    #print(incX)\n",
    "    #print(incY)\n",
    "    \n",
    "    isVisible = True\n",
    "    for i in range(1,gcd):\n",
    "        checkX = ast1X - i*incX\n",
    "        checkY = ast1Y - i*incY\n",
    "        #print(\"X: \"+str(checkX))\n",
    "        #print(\"Y: \"+str(checkY))\n",
    "        if(astroidMap[checkY][checkX]=='#'):\n",
    "            return False\n",
    "    return True\n",
    "    "
   ]
  },
  {
   "cell_type": "code",
   "execution_count": 5,
   "metadata": {},
   "outputs": [],
   "source": [
    "numberOfVisibleAstroids = {} \n",
    "for iy in range(len(astroidMap)):\n",
    "    for ix in range(len(astroidMap[iy])):\n",
    "        if (astroidMap[iy][ix]=='#'):\n",
    "            numberOfVisibleAstroids[(ix,iy)] = 0\n",
    "            for jy in range(len(astroidMap)):\n",
    "                for jx in range(len(astroidMap[jy])):\n",
    "                    if (astroidMap[jy][jx]=='#'):\n",
    "                        if (checkIfAstroidsAreInSight(ix,iy,jx,jy)):\n",
    "                            numberOfVisibleAstroids[(ix,iy)] += 1"
   ]
  },
  {
   "cell_type": "code",
   "execution_count": 6,
   "metadata": {},
   "outputs": [
    {
     "name": "stdout",
     "output_type": "stream",
     "text": [
      "210\n",
      "(11, 13)\n"
     ]
    }
   ],
   "source": [
    "bestAstroid = 0\n",
    "maxSights = max(numberOfVisibleAstroids.values())\n",
    "for key, value in numberOfVisibleAstroids.items():\n",
    "    if (value == maxSights):\n",
    "        bestAstroid = key \n",
    "print(maxSights)\n",
    "print(bestAstroid)"
   ]
  },
  {
   "cell_type": "code",
   "execution_count": 53,
   "metadata": {},
   "outputs": [],
   "source": [
    "def getListOfCellAngles(x,y):\n",
    "    angles = {}\n",
    "    for iy in range(len(astroidMap)):\n",
    "        for ix in range(len(astroidMap[iy])):\n",
    "            diffX = x - ix\n",
    "            diffY = y - iy \n",
    "            #compute angle with diffY and diffX\n",
    "            if(diffX == 0 and diffY == 0):\n",
    "                angles[(ix,iy)]=0.0\n",
    "            elif(diffX == 0 and diffY < 0):\n",
    "                angles[(ix,iy)]=180.0\n",
    "            elif(diffX == 0 and diffY > 0):\n",
    "                angles[(ix,iy)]=0.0\n",
    "            elif(diffX > 0 and diffY == 0):\n",
    "                angles[(ix,iy)]=270.0\n",
    "            elif(diffX < 0 and diffY == 0):\n",
    "                angles[(ix,iy)]=90.0\n",
    "            else:\n",
    "                if(diffX > 0):\n",
    "                    angles[(ix,iy)]=math.degrees(math.atan(diffY/diffX))+270.0\n",
    "                elif(diffX < 0):\n",
    "                    angles[(ix,iy)]=math.degrees(math.atan(diffY/diffX))+90.0                \n",
    "    return angles"
   ]
  },
  {
   "cell_type": "code",
   "execution_count": 54,
   "metadata": {},
   "outputs": [],
   "source": [
    "def printAngleMap(angles):\n",
    "    for y in range(len(astroidMap)):\n",
    "        line = \"\"\n",
    "        for x in range(len(astroidMap[y])):\n",
    "            print (\"{:03.0f} \".format(round(angles[(x,y)],1)), end = '')\n",
    "        print(\"\")"
   ]
  },
  {
   "cell_type": "code",
   "execution_count": 55,
   "metadata": {},
   "outputs": [
    {
     "name": "stdout",
     "output_type": "stream",
     "text": [
      "320 322 325 328 332 335 339 343 347 351 356 000 004 009 013 017 021 025 028 032 \n",
      "318 320 323 326 330 333 337 342 346 350 355 000 005 010 014 018 023 027 030 034 \n",
      "315 318 321 324 328 331 336 340 345 350 355 000 005 010 015 020 024 029 032 036 \n",
      "312 315 318 321 325 329 333 338 343 349 354 000 006 011 017 022 027 031 035 039 \n",
      "309 312 315 318 322 326 331 336 342 348 354 000 006 012 018 024 029 034 038 042 \n",
      "306 309 312 315 319 323 328 333 339 346 353 000 007 014 021 027 032 037 041 045 \n",
      "302 305 308 311 315 319 324 330 337 344 352 000 008 016 023 030 036 041 045 049 \n",
      "299 301 304 307 311 315 320 326 333 342 350 000 010 018 027 034 040 045 049 053 \n",
      "294 297 299 302 306 310 315 321 329 338 349 000 011 022 031 039 045 050 054 058 \n",
      "290 292 294 297 300 304 309 315 323 333 346 000 014 027 037 045 051 056 060 063 \n",
      "285 287 288 291 293 297 301 307 315 326 342 000 018 034 045 053 059 063 067 069 \n",
      "280 281 282 284 286 288 292 297 304 315 333 000 027 045 056 063 068 072 074 076 \n",
      "275 276 276 277 278 280 281 284 288 297 315 000 045 063 072 076 079 080 082 083 \n",
      "270 270 270 270 270 270 270 270 270 270 270 000 090 090 090 090 090 090 090 090 \n",
      "265 264 264 263 262 260 259 256 252 243 225 180 135 117 108 104 101 100 098 097 \n",
      "260 259 258 256 254 252 248 243 236 225 207 180 153 135 124 117 112 108 106 104 \n",
      "255 253 252 249 247 243 239 233 225 214 198 180 162 146 135 127 121 117 113 111 \n",
      "250 248 246 243 240 236 231 225 217 207 194 180 166 153 143 135 129 124 120 117 \n",
      "246 243 241 238 234 230 225 219 211 202 191 180 169 158 149 141 135 130 126 122 \n",
      "241 239 236 233 229 225 220 214 207 198 190 180 170 162 153 146 140 135 131 127 \n"
     ]
    }
   ],
   "source": [
    "angles = getListOfCellAngles(11,13)\n",
    "printAngleMap(angles)"
   ]
  },
  {
   "cell_type": "code",
   "execution_count": null,
   "metadata": {},
   "outputs": [],
   "source": [
    "def vaporizeAstroids(x,y):\n",
    "    vaporization = []\n",
    "    #start shooting upwards\n",
    "    currentX = x\n",
    "    currentY = 0\n",
    "    while len(vaporization<=200):\n",
    "        nextCell = nextCell(x, y, currentX, currentY)\n",
    "        print(nextCell)\n",
    "        currentX = nextCell[0]\n",
    "        currentY = nextCell[1]\n"
   ]
  },
  {
   "cell_type": "code",
   "execution_count": null,
   "metadata": {},
   "outputs": [],
   "source": [
    "def nextCell(originX, originY, currentX, currentY):\n",
    "    diffX = originX - currentX\n",
    "    diffY = originY - currentY"
   ]
  },
  {
   "cell_type": "code",
   "execution_count": null,
   "metadata": {},
   "outputs": [],
   "source": [
    "vaporizesAstroids(11,13)"
   ]
  },
  {
   "cell_type": "code",
   "execution_count": null,
   "metadata": {},
   "outputs": [],
   "source": [
    "def getNextAstroidInSight(ast1X, ast1Y, ast2X, ast2Y):\n",
    "    if (ast1X==ast2X and ast1Y==ast2Y):\n",
    "        return False\n",
    "    diffX = ast1X - ast2X\n",
    "    diffY = ast1Y - ast2Y\n",
    "    gcd = math.gcd(diffX,diffY)\n",
    "    #print(gcd)\n",
    "    \n",
    "    incX = int(diffX / gcd)\n",
    "    incY = int(diffY / gcd)\n",
    "    \n",
    "    #print(incX)\n",
    "    #print(incY)\n",
    "    \n",
    "    isVisible = True\n",
    "    for i in range(1,gcd):\n",
    "        checkX = ast1X - i*incX\n",
    "        checkY = ast1Y - i*incY\n",
    "        #print(\"X: \"+str(checkX))\n",
    "        #print(\"Y: \"+str(checkY))\n",
    "        if(astroidMap[checkY][checkX]=='#'):\n",
    "            return False\n",
    "    return True\n",
    "    "
   ]
  }
 ],
 "metadata": {
  "kernelspec": {
   "display_name": "Python 3",
   "language": "python",
   "name": "python3"
  },
  "language_info": {
   "codemirror_mode": {
    "name": "ipython",
    "version": 3
   },
   "file_extension": ".py",
   "mimetype": "text/x-python",
   "name": "python",
   "nbconvert_exporter": "python",
   "pygments_lexer": "ipython3",
   "version": "3.7.3"
  }
 },
 "nbformat": 4,
 "nbformat_minor": 2
}

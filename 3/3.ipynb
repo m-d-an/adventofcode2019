{
 "cells": [
  {
   "cell_type": "code",
   "execution_count": 1,
   "metadata": {},
   "outputs": [],
   "source": [
    "f = open(\"input.txt\", \"r\")"
   ]
  },
  {
   "cell_type": "code",
   "execution_count": 2,
   "metadata": {},
   "outputs": [],
   "source": [
    "wire1 = f.readline().split(',')\n",
    "wire2 = f.readline().split(',')\n",
    "paths = {}\n",
    "intersections = []"
   ]
  },
  {
   "cell_type": "code",
   "execution_count": 3,
   "metadata": {},
   "outputs": [],
   "source": [
    "#wire1 = [\"R10\",\"U5\",\"L20\",\"D10\"]"
   ]
  },
  {
   "cell_type": "code",
   "execution_count": 4,
   "metadata": {},
   "outputs": [],
   "source": [
    "#wire1\n",
    "x = 0\n",
    "y = 0\n",
    "paths[(x,y)]=1\n",
    "for corner in wire1:\n",
    "    value = int(corner[1:])\n",
    "    if(corner[0]=='R'):\n",
    "        for i in range(x,x+value):\n",
    "            paths[(i+1,y)]=1\n",
    "        x += value\n",
    "    elif(corner[0]=='L'):\n",
    "        for i in range(x, x-value, -1):\n",
    "            paths[(i-1,y)]=1\n",
    "        x -= value\n",
    "    elif(corner[0]=='U'):\n",
    "        for i in range(y,y+value):\n",
    "            paths[(x,i+1)]=1\n",
    "        y += value\n",
    "    elif(corner[0]=='D'):\n",
    "        for i in range(y, y-value, -1):\n",
    "            paths[(x,i-1)]=1\n",
    "        y -= value\n",
    "        \n",
    "#wire2\n",
    "x = 0\n",
    "y = 0\n",
    "paths[(x,y)]=1\n",
    "for corner in wire2:\n",
    "    value = int(corner[1:])\n",
    "    if(corner[0]=='R'):\n",
    "        for i in range(x,x+value):\n",
    "            if((i+1,y) in paths and paths[(i+1,y)]==1):\n",
    "                intersections.append((i+1,y))\n",
    "            else:\n",
    "                paths[(i+1,y)]=2\n",
    "        x += value\n",
    "    elif(corner[0]=='L'):\n",
    "        for i in range(x, x-value, -1):\n",
    "            if((i-1,y) in paths and paths[(i-1,y)]==1):\n",
    "                intersections.append((i-1,y))\n",
    "            else:\n",
    "                paths[(i-1,y)]=2\n",
    "        x -= value\n",
    "    elif(corner[0]=='U'):\n",
    "        for i in range(y,y+value):\n",
    "            if ((x,i+1) in paths and paths[(x,i+1)]==1):\n",
    "                intersections.append((x,i+1))\n",
    "            else:\n",
    "                paths[(x,i+1)]=2\n",
    "        y += value\n",
    "    elif(corner[0]=='D'):\n",
    "        for i in range(y, y-value, -1):\n",
    "            if ((x,i-1) in paths and paths[(x,i-1)]==1):\n",
    "                intersections.append((x,i-1))\n",
    "            else:\n",
    "                paths[(x,i-1)]=2\n",
    "        y -= value"
   ]
  },
  {
   "cell_type": "code",
   "execution_count": 5,
   "metadata": {
    "scrolled": false
   },
   "outputs": [],
   "source": [
    "distances = []\n",
    "for tpl in intersections:\n",
    "    distances.append(abs(tpl[0])+abs(tpl[1]))"
   ]
  },
  {
   "cell_type": "code",
   "execution_count": 7,
   "metadata": {},
   "outputs": [
    {
     "name": "stdout",
     "output_type": "stream",
     "text": [
      "[7053, 8154, 8623, 8748, 8697, 8365, 7740, 7684, 7304, 7157, 6871, 6847, 6780, 6986, 6992, 6786, 7417, 7553, 7760, 7292, 2666, 3252, 1211, 1292]\n",
      "1211\n"
     ]
    }
   ],
   "source": [
    "print(distances)\n",
    "print(min(distances))"
   ]
  },
  {
   "cell_type": "code",
   "execution_count": null,
   "metadata": {},
   "outputs": [],
   "source": []
  }
 ],
 "metadata": {
  "kernelspec": {
   "display_name": "Python 3",
   "language": "python",
   "name": "python3"
  },
  "language_info": {
   "codemirror_mode": {
    "name": "ipython",
    "version": 3
   },
   "file_extension": ".py",
   "mimetype": "text/x-python",
   "name": "python",
   "nbconvert_exporter": "python",
   "pygments_lexer": "ipython3",
   "version": "3.7.3"
  }
 },
 "nbformat": 4,
 "nbformat_minor": 4
}

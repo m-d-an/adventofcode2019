{
 "cells": [
  {
   "cell_type": "code",
   "execution_count": 1,
   "metadata": {},
   "outputs": [],
   "source": [
    "f = open(\"input.txt\", \"r\")"
   ]
  },
  {
   "cell_type": "code",
   "execution_count": 2,
   "metadata": {},
   "outputs": [],
   "source": [
    "wire1 = f.readline().split(',')\n",
    "wire2 = f.readline().split(',')\n",
    "paths = {}\n",
    "intersections = []\n",
    "intersectionsWire1 = []\n",
    "intersectionsWire2 = []"
   ]
  },
  {
   "cell_type": "code",
   "execution_count": 3,
   "metadata": {},
   "outputs": [],
   "source": [
    "#wire1 = \"R98,U47,R26,D63,R33,U87,L62,D20,R33,U53,R51\".split(',')\n",
    "#wire2 = \"U98,R91,D20,R16,D67,R40,U7,R15,U6,R7\".split(',')\n",
    "\n",
    "#wire1 = [\"R75\",\"D30\",\"R83\",\"U83\",\"L12\",\"D49\",\"R71\",\"U7\",\"L72\"]\n",
    "#wire2 = [\"U62\",\"R66\",\"U55\",\"R34\",\"D71\",\"R55\",\"D58\",\"R83\"]"
   ]
  },
  {
   "cell_type": "code",
   "execution_count": 4,
   "metadata": {},
   "outputs": [],
   "source": [
    "#wire1\n",
    "x = 0\n",
    "y = 0\n",
    "paths[(x,y)]=1\n",
    "for corner in wire1:\n",
    "    value = int(corner[1:])\n",
    "    if(corner[0]=='R'):\n",
    "        for i in range(x,x+value):\n",
    "            if((i+1,y) in paths and paths[(i+1,y)]==1):\n",
    "                intersectionsWire1.append((i+1,y))\n",
    "            paths[(i+1,y)]=1       \n",
    "        x += value\n",
    "    elif(corner[0]=='L'):\n",
    "        for i in range(x, x-value, -1):\n",
    "            if((i-1,y) in paths and paths[(i-1,y)]==1):\n",
    "                intersectionsWire1.append((i-1,y))\n",
    "            paths[(i-1,y)]=1\n",
    "        x -= value\n",
    "    elif(corner[0]=='U'):\n",
    "        for i in range(y,y+value):\n",
    "            if ((x,i+1) in paths and paths[(x,i+1)]==1):\n",
    "                intersectionsWire1.append((x,i+1))\n",
    "            paths[(x,i+1)]=1\n",
    "        y += value\n",
    "    elif(corner[0]=='D'):\n",
    "        for i in range(y, y-value, -1):\n",
    "            if ((x,i-1) in paths and paths[(x,i-1)]==1):\n",
    "                intersectionsWire1.append((x,i-1))\n",
    "            paths[(x,i-1)]=1\n",
    "        y -= value\n",
    "        \n",
    "#wire2\n",
    "x = 0\n",
    "y = 0\n",
    "paths[(x,y)]=1\n",
    "for corner in wire2:\n",
    "    value = int(corner[1:])\n",
    "    if(corner[0]=='R'):\n",
    "        for i in range(x,x+value):\n",
    "            if((i+1,y) in paths and paths[(i+1,y)]==2):\n",
    "                intersectionsWire2.append((i+1,y))\n",
    "            if((i+1,y) in paths and paths[(i+1,y)]==1):\n",
    "                intersections.append((i+1,y))\n",
    "                paths[(i+1,y)]=3\n",
    "            else:\n",
    "                paths[(i+1,y)]=2\n",
    "        x += value\n",
    "    elif(corner[0]=='L'):\n",
    "        for i in range(x, x-value, -1):\n",
    "            if((i-1,y) in paths and paths[(i-1,y)]==2):\n",
    "                intersectionsWire2.append((i-1,y))\n",
    "            if((i-1,y) in paths and paths[(i-1,y)]==1):\n",
    "                intersections.append((i-1,y))\n",
    "                paths[(i-1,y)]=3\n",
    "            else:\n",
    "                paths[(i-1,y)]=2\n",
    "        x -= value\n",
    "    elif(corner[0]=='U'):\n",
    "        for i in range(y,y+value):\n",
    "            if ((x,i+1) in paths and paths[(x,i+1)]==2):\n",
    "                intersectionsWire2.append((x,i+1))\n",
    "            if ((x,i+1) in paths and paths[(x,i+1)]==1):\n",
    "                intersections.append((x,i+1))\n",
    "                paths[(x,i+1)]=3\n",
    "            else:\n",
    "                paths[(x,i+1)]=2\n",
    "        y += value\n",
    "    elif(corner[0]=='D'):\n",
    "        for i in range(y, y-value, -1):\n",
    "            if ((x,i-1) in paths and paths[(x,i-1)]==2):\n",
    "                intersectionsWire2.append((x,i-1))\n",
    "            if ((x,i-1) in paths and paths[(x,i-1)]==1):\n",
    "                intersections.append((x,i-1))\n",
    "                paths[(x,i-1)]=3\n",
    "            else:\n",
    "                paths[(x,i-1)]=2\n",
    "        y -= value"
   ]
  },
  {
   "cell_type": "code",
   "execution_count": 5,
   "metadata": {},
   "outputs": [],
   "source": [
    "def getsteps(wire, intersections):\n",
    "    intersectionSteps = {}\n",
    "    x = 0\n",
    "    y = 0\n",
    "    steps = 0\n",
    "    for corner in wire:\n",
    "        value = int(corner[1:])\n",
    "        if(corner[0]=='R'):\n",
    "            for i in range(x,x+value):\n",
    "                steps += 1\n",
    "                if((i+1,y) in intersections and (i+1,y) not in intersectionSteps):\n",
    "                    intersectionSteps[(i+1,y)]=steps\n",
    "            x += value\n",
    "        elif(corner[0]=='L'):\n",
    "            for i in range(x, x-value, -1):\n",
    "                steps += 1\n",
    "                if((i-1,y) in intersections and (i-1,y) not in intersectionSteps):\n",
    "                    intersectionSteps[(i-1,y)]=steps            \n",
    "            x -= value\n",
    "        elif(corner[0]=='U'):\n",
    "            for i in range(y,y+value):\n",
    "                steps += 1\n",
    "                if((x,i+1) in intersections and (x,i+1) not in intersectionSteps):\n",
    "                    intersectionSteps[(x,i+1)]=steps            \n",
    "            y += value\n",
    "        elif(corner[0]=='D'):\n",
    "            for i in range(y, y-value, -1):\n",
    "                steps += 1\n",
    "                if((x,i-1) in intersections and (x,i-1) not in intersectionSteps):\n",
    "                    intersectionSteps[(x,i-1)]=steps                \n",
    "            y -= value\n",
    "    return intersectionSteps    "
   ]
  },
  {
   "cell_type": "code",
   "execution_count": 6,
   "metadata": {},
   "outputs": [],
   "source": [
    "intersectionSteps1 = getsteps(wire1, intersections)\n",
    "intersectionSteps2 = getsteps(wire2, intersections)\n",
    "combinedIntersectionSteps = {}\n",
    "for tpl in intersections:\n",
    "    combinedIntersectionSteps[tpl] = intersectionSteps1[tpl]+intersectionSteps2[tpl]"
   ]
  },
  {
   "cell_type": "code",
   "execution_count": 7,
   "metadata": {},
   "outputs": [
    {
     "name": "stdout",
     "output_type": "stream",
     "text": [
      "{(-1834, 1418): 17328, (-1584, 1082): 17914, (-1133, 159): 19524, (-1116, 95): 19605, (4344, 2436): 37682, (4350, 2436): 37688, (4399, 2448): 37749, (4399, 2472): 37773, (4344, 2642): 123822, (4350, 2642): 123828, (4411, 2642): 123889, (4850, 2454): 124974, (4685, 2472): 125157, (5343, 2811): 126154, (5617, 2067): 138386, (5501, 2259): 138694, (5294, 2259): 138901, (5146, 2146): 139162, (5294, 2123): 139333, (5617, 2123): 139656, (5812, 2553): 140281, (5812, 2811): 140539, (6135, 2562): 141971, (5937, 2811): 142418}\n",
      "{(4411, 2642): 58471, (5343, 2811): 59572, (5812, 2811): 60041, (5937, 2811): 60166, (6135, 2562): 60613, (5812, 2553): 60945, (5617, 2123): 61570, (5617, 2067): 61626, (4850, 2454): 63144, (4685, 2472): 63327, (4399, 2472): 63613, (4399, 2448): 64043, (4344, 2436): 64714, (4344, 2642): 64920, (4350, 2642): 65048, (4350, 2436): 65254, (5294, 2123): 66765, (5294, 2259): 66901, (5501, 2259): 67580, (5146, 2146): 68048, (-1584, 1082): 103902, (-1834, 1418): 104488, (-1116, 95): 110723, (-1133, 159): 110804}\n",
      "{(4411, 2642): 182360, (5343, 2811): 185726, (5812, 2811): 200580, (5937, 2811): 202584, (6135, 2562): 202584, (5812, 2553): 201226, (5617, 2123): 201226, (5617, 2067): 200012, (4850, 2454): 188118, (4685, 2472): 188484, (4399, 2472): 101386, (4399, 2448): 101792, (4344, 2436): 102396, (4344, 2642): 188742, (4350, 2642): 188876, (4350, 2436): 102942, (5294, 2123): 206098, (5294, 2259): 205802, (5501, 2259): 206274, (5146, 2146): 207210, (-1584, 1082): 121816, (-1834, 1418): 121816, (-1116, 95): 130328, (-1133, 159): 130328}\n"
     ]
    }
   ],
   "source": [
    "print(intersectionSteps1)\n",
    "print(intersectionSteps2)\n",
    "print(combinedIntersectionSteps)"
   ]
  },
  {
   "cell_type": "code",
   "execution_count": 8,
   "metadata": {
    "scrolled": false
   },
   "outputs": [
    {
     "name": "stdout",
     "output_type": "stream",
     "text": [
      "101386\n"
     ]
    }
   ],
   "source": [
    "print(min(combinedIntersectionSteps.values()))"
   ]
  }
 ],
 "metadata": {
  "kernelspec": {
   "display_name": "Python 3",
   "language": "python",
   "name": "python3"
  },
  "language_info": {
   "codemirror_mode": {
    "name": "ipython",
    "version": 3
   },
   "file_extension": ".py",
   "mimetype": "text/x-python",
   "name": "python",
   "nbconvert_exporter": "python",
   "pygments_lexer": "ipython3",
   "version": "3.7.3"
  }
 },
 "nbformat": 4,
 "nbformat_minor": 4
}

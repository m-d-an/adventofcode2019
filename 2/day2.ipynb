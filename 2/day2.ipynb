{
 "cells": [
  {
   "cell_type": "code",
   "execution_count": 1,
   "metadata": {},
   "outputs": [],
   "source": [
    "f = open(\"input.txt\", \"r\")"
   ]
  },
  {
   "cell_type": "code",
   "execution_count": 2,
   "metadata": {},
   "outputs": [],
   "source": [
    "inputs = f.readline().split(',')"
   ]
  },
  {
   "cell_type": "code",
   "execution_count": 3,
   "metadata": {},
   "outputs": [],
   "source": [
    "inputs = list(map(int, inputs))"
   ]
  },
  {
   "cell_type": "code",
   "execution_count": 4,
   "metadata": {},
   "outputs": [
    {
     "name": "stdout",
     "output_type": "stream",
     "text": [
      "[1, 0, 0, 3, 1, 1, 2, 3, 1, 3, 4, 3, 1, 5, 0, 3, 2, 10, 1, 19, 1, 6, 19, 23, 2, 23, 6, 27, 1, 5, 27, 31, 1, 31, 9, 35, 2, 10, 35, 39, 1, 5, 39, 43, 2, 43, 10, 47, 1, 47, 6, 51, 2, 51, 6, 55, 2, 55, 13, 59, 2, 6, 59, 63, 1, 63, 5, 67, 1, 6, 67, 71, 2, 71, 9, 75, 1, 6, 75, 79, 2, 13, 79, 83, 1, 9, 83, 87, 1, 87, 13, 91, 2, 91, 10, 95, 1, 6, 95, 99, 1, 99, 13, 103, 1, 13, 103, 107, 2, 107, 10, 111, 1, 9, 111, 115, 1, 115, 10, 119, 1, 5, 119, 123, 1, 6, 123, 127, 1, 10, 127, 131, 1, 2, 131, 135, 1, 135, 10, 0, 99, 2, 14, 0, 0]\n"
     ]
    }
   ],
   "source": [
    "print(inputs)"
   ]
  },
  {
   "cell_type": "code",
   "execution_count": 5,
   "metadata": {},
   "outputs": [],
   "source": [
    "inputs[1] = 12\n",
    "inputs[2] = 2"
   ]
  },
  {
   "cell_type": "code",
   "execution_count": 6,
   "metadata": {},
   "outputs": [
    {
     "name": "stdout",
     "output_type": "stream",
     "text": [
      "Instruction Pointer: 4, Instruction: 1\n",
      "Instruction Pointer: 8, Instruction: 1\n",
      "Instruction Pointer: 12, Instruction: 1\n",
      "Instruction Pointer: 16, Instruction: 2\n",
      "Instruction Pointer: 20, Instruction: 1\n",
      "Instruction Pointer: 24, Instruction: 2\n",
      "Instruction Pointer: 28, Instruction: 1\n",
      "Instruction Pointer: 32, Instruction: 1\n",
      "Instruction Pointer: 36, Instruction: 2\n",
      "Instruction Pointer: 40, Instruction: 1\n",
      "Instruction Pointer: 44, Instruction: 2\n",
      "Instruction Pointer: 48, Instruction: 1\n",
      "Instruction Pointer: 52, Instruction: 2\n",
      "Instruction Pointer: 56, Instruction: 2\n",
      "Instruction Pointer: 60, Instruction: 2\n",
      "Instruction Pointer: 64, Instruction: 1\n",
      "Instruction Pointer: 68, Instruction: 1\n",
      "Instruction Pointer: 72, Instruction: 2\n",
      "Instruction Pointer: 76, Instruction: 1\n",
      "Instruction Pointer: 80, Instruction: 2\n",
      "Instruction Pointer: 84, Instruction: 1\n",
      "Instruction Pointer: 88, Instruction: 1\n",
      "Instruction Pointer: 92, Instruction: 2\n",
      "Instruction Pointer: 96, Instruction: 1\n",
      "Instruction Pointer: 100, Instruction: 1\n",
      "Instruction Pointer: 104, Instruction: 1\n",
      "Instruction Pointer: 108, Instruction: 2\n",
      "Instruction Pointer: 112, Instruction: 1\n",
      "Instruction Pointer: 116, Instruction: 1\n",
      "Instruction Pointer: 120, Instruction: 1\n",
      "Instruction Pointer: 124, Instruction: 1\n",
      "Instruction Pointer: 128, Instruction: 1\n",
      "Instruction Pointer: 132, Instruction: 1\n",
      "Instruction Pointer: 136, Instruction: 1\n",
      "Instruction Pointer: 140, Instruction: 99\n"
     ]
    }
   ],
   "source": [
    "index = 0\n",
    "while (inputs[index]!=99):\n",
    "    if (inputs[index] == 1):\n",
    "        inputs[inputs[index+3]] = inputs[inputs[index+1]]+inputs[inputs[index+2]]\n",
    "    elif (inputs[index] == 2):\n",
    "        inputs[inputs[index+3]] = inputs[inputs[index+1]]*inputs[inputs[index+2]]\n",
    "    index += 4\n",
    "    print(\"Instruction Pointer: \" + str(index) + \", Instruction: \" + str(inputs[index]))"
   ]
  },
  {
   "cell_type": "code",
   "execution_count": 7,
   "metadata": {},
   "outputs": [
    {
     "name": "stdout",
     "output_type": "stream",
     "text": [
      "8017076\n"
     ]
    }
   ],
   "source": [
    "print(inputs[0])"
   ]
  },
  {
   "cell_type": "code",
   "execution_count": 8,
   "metadata": {},
   "outputs": [],
   "source": [
    "f.close() "
   ]
  }
 ],
 "metadata": {
  "kernelspec": {
   "display_name": "Python 3",
   "language": "python",
   "name": "python3"
  },
  "language_info": {
   "codemirror_mode": {
    "name": "ipython",
    "version": 3
   },
   "file_extension": ".py",
   "mimetype": "text/x-python",
   "name": "python",
   "nbconvert_exporter": "python",
   "pygments_lexer": "ipython3",
   "version": "3.7.3"
  }
 },
 "nbformat": 4,
 "nbformat_minor": 2
}

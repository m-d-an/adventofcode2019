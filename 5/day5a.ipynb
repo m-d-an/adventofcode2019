{
 "cells": [
  {
   "cell_type": "code",
   "execution_count": 1,
   "metadata": {},
   "outputs": [],
   "source": [
    "f = open(\"input.txt\", \"r\")"
   ]
  },
  {
   "cell_type": "code",
   "execution_count": 2,
   "metadata": {},
   "outputs": [],
   "source": [
    "inputs = f.readline().split(',')"
   ]
  },
  {
   "cell_type": "code",
   "execution_count": 3,
   "metadata": {},
   "outputs": [],
   "source": [
    "inputs = list(map(int, inputs))"
   ]
  },
  {
   "cell_type": "code",
   "execution_count": 4,
   "metadata": {
    "scrolled": true
   },
   "outputs": [
    {
     "name": "stdout",
     "output_type": "stream",
     "text": [
      "[3, 225, 1, 225, 6, 6, 1100, 1, 238, 225, 104, 0, 1101, 48, 82, 225, 102, 59, 84, 224, 1001, 224, -944, 224, 4, 224, 102, 8, 223, 223, 101, 6, 224, 224, 1, 223, 224, 223, 1101, 92, 58, 224, 101, -150, 224, 224, 4, 224, 102, 8, 223, 223, 1001, 224, 3, 224, 1, 224, 223, 223, 1102, 10, 89, 224, 101, -890, 224, 224, 4, 224, 1002, 223, 8, 223, 1001, 224, 5, 224, 1, 224, 223, 223, 1101, 29, 16, 225, 101, 23, 110, 224, 1001, 224, -95, 224, 4, 224, 102, 8, 223, 223, 1001, 224, 3, 224, 1, 223, 224, 223, 1102, 75, 72, 225, 1102, 51, 8, 225, 1102, 26, 16, 225, 1102, 8, 49, 225, 1001, 122, 64, 224, 1001, 224, -113, 224, 4, 224, 102, 8, 223, 223, 1001, 224, 3, 224, 1, 224, 223, 223, 1102, 55, 72, 225, 1002, 174, 28, 224, 101, -896, 224, 224, 4, 224, 1002, 223, 8, 223, 101, 4, 224, 224, 1, 224, 223, 223, 1102, 57, 32, 225, 2, 113, 117, 224, 101, -1326, 224, 224, 4, 224, 102, 8, 223, 223, 101, 5, 224, 224, 1, 223, 224, 223, 1, 148, 13, 224, 101, -120, 224, 224, 4, 224, 1002, 223, 8, 223, 101, 7, 224, 224, 1, 223, 224, 223, 4, 223, 99, 0, 0, 0, 677, 0, 0, 0, 0, 0, 0, 0, 0, 0, 0, 0, 1105, 0, 99999, 1105, 227, 247, 1105, 1, 99999, 1005, 227, 99999, 1005, 0, 256, 1105, 1, 99999, 1106, 227, 99999, 1106, 0, 265, 1105, 1, 99999, 1006, 0, 99999, 1006, 227, 274, 1105, 1, 99999, 1105, 1, 280, 1105, 1, 99999, 1, 225, 225, 225, 1101, 294, 0, 0, 105, 1, 0, 1105, 1, 99999, 1106, 0, 300, 1105, 1, 99999, 1, 225, 225, 225, 1101, 314, 0, 0, 106, 0, 0, 1105, 1, 99999, 8, 677, 226, 224, 102, 2, 223, 223, 1006, 224, 329, 101, 1, 223, 223, 107, 677, 677, 224, 1002, 223, 2, 223, 1006, 224, 344, 101, 1, 223, 223, 8, 226, 677, 224, 102, 2, 223, 223, 1006, 224, 359, 101, 1, 223, 223, 107, 226, 226, 224, 102, 2, 223, 223, 1005, 224, 374, 1001, 223, 1, 223, 1108, 677, 226, 224, 1002, 223, 2, 223, 1006, 224, 389, 101, 1, 223, 223, 107, 677, 226, 224, 102, 2, 223, 223, 1006, 224, 404, 1001, 223, 1, 223, 1107, 226, 677, 224, 1002, 223, 2, 223, 1006, 224, 419, 1001, 223, 1, 223, 108, 677, 677, 224, 102, 2, 223, 223, 1005, 224, 434, 1001, 223, 1, 223, 1008, 677, 226, 224, 1002, 223, 2, 223, 1006, 224, 449, 1001, 223, 1, 223, 7, 226, 677, 224, 1002, 223, 2, 223, 1006, 224, 464, 1001, 223, 1, 223, 1007, 677, 677, 224, 102, 2, 223, 223, 1005, 224, 479, 1001, 223, 1, 223, 1007, 226, 226, 224, 1002, 223, 2, 223, 1005, 224, 494, 1001, 223, 1, 223, 108, 226, 226, 224, 1002, 223, 2, 223, 1005, 224, 509, 1001, 223, 1, 223, 1007, 226, 677, 224, 1002, 223, 2, 223, 1006, 224, 524, 101, 1, 223, 223, 1107, 677, 677, 224, 102, 2, 223, 223, 1005, 224, 539, 101, 1, 223, 223, 1107, 677, 226, 224, 102, 2, 223, 223, 1005, 224, 554, 1001, 223, 1, 223, 108, 677, 226, 224, 1002, 223, 2, 223, 1006, 224, 569, 1001, 223, 1, 223, 1108, 226, 677, 224, 1002, 223, 2, 223, 1006, 224, 584, 101, 1, 223, 223, 8, 677, 677, 224, 1002, 223, 2, 223, 1006, 224, 599, 1001, 223, 1, 223, 1008, 226, 226, 224, 102, 2, 223, 223, 1006, 224, 614, 101, 1, 223, 223, 7, 677, 677, 224, 1002, 223, 2, 223, 1006, 224, 629, 101, 1, 223, 223, 1008, 677, 677, 224, 102, 2, 223, 223, 1005, 224, 644, 101, 1, 223, 223, 7, 677, 226, 224, 1002, 223, 2, 223, 1005, 224, 659, 101, 1, 223, 223, 1108, 226, 226, 224, 102, 2, 223, 223, 1006, 224, 674, 1001, 223, 1, 223, 4, 223, 99, 226]\n"
     ]
    }
   ],
   "source": [
    "print(inputs)"
   ]
  },
  {
   "cell_type": "code",
   "execution_count": 5,
   "metadata": {},
   "outputs": [],
   "source": [
    "opTwo = [3,4]\n",
    "opThree = [5,6]\n",
    "opFour = [1,2,7,8]"
   ]
  },
  {
   "cell_type": "code",
   "execution_count": 6,
   "metadata": {},
   "outputs": [],
   "source": [
    "#inputs = [3,21,1008,21,8,20,1005,20,22,107,8,21,20,1006,20,31,\n",
    "#1106,0,36,98,0,0,1002,21,125,20,4,20,1105,1,46,104,\n",
    "#999,1105,1,46,1101,1000,1,20,4,20,1105,1,46,98,99]"
   ]
  },
  {
   "cell_type": "code",
   "execution_count": 7,
   "metadata": {
    "scrolled": true
   },
   "outputs": [
    {
     "name": "stdout",
     "output_type": "stream",
     "text": [
      "Enter number: 5\n",
      "236453\n"
     ]
    }
   ],
   "source": [
    "debug = False\n",
    "\n",
    "memory = inputs.copy()\n",
    "\n",
    "index = 0\n",
    "while (memory[index]!=99):    \n",
    "    \n",
    "    instruction = memory[index]\n",
    "    opcode = 0\n",
    "    params = []            \n",
    "    address = []\n",
    "    \n",
    "    if (len(str(memory[index]))>2):\n",
    "        # deconstruct instruction\n",
    "        digits = list(map(int, str(instruction)))\n",
    "        if (debug):\n",
    "            print(\"Digits: \")\n",
    "            print(digits)\n",
    "        opcode = int(digits[-1])\n",
    "        for i in range(len(digits)-2,0,-1):\n",
    "            params.append(int(digits[i-1]))\n",
    "    else:\n",
    "        opcode = instruction\n",
    "       \n",
    "    if (debug):\n",
    "        print(\"IP: \" + str(index) + \", Instruction: \" + str(memory[index]) +\n",
    "             \", Opcode: \" + str(opcode))\n",
    "        print(\"Params: \")\n",
    "        print(params)\n",
    "\n",
    "    if (opcode in opFour):\n",
    "        numIndices = 4\n",
    "    elif (opcode in opThree):\n",
    "        numIndices = 3\n",
    "    elif (opcode in opTwo):\n",
    "        numIndices = 2\n",
    "    for i in range(numIndices-1):\n",
    "        if (len(params)>i and params[i]==1):\n",
    "            address.append(index+i+1)\n",
    "        else:\n",
    "            address.append(memory[index+i+1]) \n",
    "    index += numIndices\n",
    "        \n",
    "    if (debug):\n",
    "        print(\"Adresses: \")    \n",
    "        print(address) \n",
    "    \n",
    "    if (opcode == 1):\n",
    "        memory[address[2]] = memory[address[0]]+memory[address[1]]\n",
    "    elif (opcode == 2):\n",
    "        memory[address[2]] = memory[address[0]]*memory[address[1]]\n",
    "    elif (opcode == 3):\n",
    "        number = int(input(\"Enter number: \"))\n",
    "        #number = 1\n",
    "        memory[address[0]] = number\n",
    "    elif (opcode == 4):\n",
    "        print(memory[address[0]])\n",
    "    elif (opcode == 5):\n",
    "        if (memory[address[0]] != 0):\n",
    "            index = memory[address[1]]\n",
    "    elif (opcode == 6):\n",
    "        if (memory[address[0]] == 0):\n",
    "            index = memory[address[1]]       \n",
    "    elif (opcode == 7):\n",
    "        if (memory[address[0]] < memory[address[1]]):\n",
    "            memory[address[2]] = 1\n",
    "        else:\n",
    "            memory[address[2]] = 0\n",
    "    elif (opcode == 8):\n",
    "        if (memory[address[0]] == memory[address[1]]):\n",
    "            memory[address[2]] = 1\n",
    "        else:\n",
    "            memory[address[2]] = 0"
   ]
  },
  {
   "cell_type": "code",
   "execution_count": 8,
   "metadata": {},
   "outputs": [],
   "source": [
    "f.close() "
   ]
  },
  {
   "cell_type": "code",
   "execution_count": null,
   "metadata": {},
   "outputs": [],
   "source": []
  }
 ],
 "metadata": {
  "kernelspec": {
   "display_name": "Python 3",
   "language": "python",
   "name": "python3"
  },
  "language_info": {
   "codemirror_mode": {
    "name": "ipython",
    "version": 3
   },
   "file_extension": ".py",
   "mimetype": "text/x-python",
   "name": "python",
   "nbconvert_exporter": "python",
   "pygments_lexer": "ipython3",
   "version": "3.7.3"
  }
 },
 "nbformat": 4,
 "nbformat_minor": 2
}
